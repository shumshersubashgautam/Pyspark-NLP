{
  "nbformat": 4,
  "nbformat_minor": 0,
  "metadata": {
    "colab": {
      "provenance": [],
      "authorship_tag": "ABX9TyPr1wJmsfK6k+Io4cSRPaER",
      "include_colab_link": true
    },
    "kernelspec": {
      "name": "python3",
      "display_name": "Python 3"
    },
    "language_info": {
      "name": "python"
    }
  },
  "cells": [
    {
      "cell_type": "markdown",
      "metadata": {
        "id": "view-in-github",
        "colab_type": "text"
      },
      "source": [
        "<a href=\"https://colab.research.google.com/github/shumshersubashgautam/Pyspark-NLP/blob/main/Detect_and_identify_language.ipynb\" target=\"_parent\"><img src=\"https://colab.research.google.com/assets/colab-badge.svg\" alt=\"Open In Colab\"/></a>"
      ]
    },
    {
      "cell_type": "code",
      "source": [
        "import sparknlp\n",
        "\n",
        "spark = sparknlp.start()\n",
        "\n",
        "print(\"Spark NLP version\", sparknlp.version())\n",
        "\n",
        "print(\"Apache Spark version:\", spark.version)"
      ],
      "metadata": {
        "colab": {
          "base_uri": "https://localhost:8080/"
        },
        "id": "amps8uPZ-wLg",
        "outputId": "9d619281-4fe7-447f-84a8-e3932db69aa4"
      },
      "execution_count": 42,
      "outputs": [
        {
          "output_type": "stream",
          "name": "stdout",
          "text": [
            "Warning::Spark Session already created, some configs may not take.\n",
            "Spark NLP version 4.4.1\n",
            "Apache Spark version: 3.2.3\n"
          ]
        }
      ]
    },
    {
      "cell_type": "code",
      "source": [
        "from sparknlp.pretrained import PretrainedPipeline"
      ],
      "metadata": {
        "id": "B1QpBRNr-_ts"
      },
      "execution_count": 43,
      "outputs": []
    },
    {
      "cell_type": "code",
      "source": [
        "# Download a pre-trained pipeline by name and language\n",
        "language_detector_pipeline = PretrainedPipeline('detect_language_21', lang='xx')\n",
        "\n",
        "# Depending on the language (how similar the characters are), the LanguageDetectorDL works\n",
        "# best with text longer than 140 characters\n",
        "language_detector_pipeline.annotate(\"«Нападение на 13-й участок»\")"
      ],
      "metadata": {
        "colab": {
          "base_uri": "https://localhost:8080/"
        },
        "id": "gNlw2M2x_BCd",
        "outputId": "581e04cf-e776-45fd-8c2b-7bc7867f61c5"
      },
      "execution_count": 44,
      "outputs": [
        {
          "output_type": "stream",
          "name": "stdout",
          "text": [
            "detect_language_21 download started this may take some time.\n",
            "Approx size to download 7.7 MB\n",
            "[OK!]\n"
          ]
        },
        {
          "output_type": "execute_result",
          "data": {
            "text/plain": [
              "{'document': ['«Нападение на 13-й участок»'],\n",
              " 'sentence': ['«Нападение на 13-й участок»'],\n",
              " 'language': ['bg']}"
            ]
          },
          "metadata": {},
          "execution_count": 44
        }
      ]
    },
    {
      "cell_type": "code",
      "source": [
        "# LanguageDetectorDL\n",
        "# Pre-trained Models\n",
        "from sparknlp.base import *\n",
        "from sparknlp.annotator import *"
      ],
      "metadata": {
        "id": "Ks03u65Y_naM"
      },
      "execution_count": 45,
      "outputs": []
    },
    {
      "cell_type": "code",
      "source": [
        "documentAssembler = DocumentAssembler()\\\n",
        ".setInputCol(\"text\")\\\n",
        ".setOutputCol(\"document\")\n",
        "\n",
        "language_detector = LanguageDetectorDL.pretrained(\"ld_wiki_tatoeba_cnn_21\")\\\n",
        ".setInputCols([\"document\"])\\\n",
        ".setOutputCol(\"lang\")\\\n",
        ".setThreshold(0.8)\\\n",
        ".setCoalesceSentences(True)\n",
        "\n",
        "languagePipeline = Pipeline(stages=[\n",
        " documentAssembler,\n",
        " language_detector\n",
        "])"
      ],
      "metadata": {
        "colab": {
          "base_uri": "https://localhost:8080/"
        },
        "id": "PKe_MKW3_vb4",
        "outputId": "8f955c24-a50f-42a1-e1b8-6eea5fedf86e"
      },
      "execution_count": 46,
      "outputs": [
        {
          "output_type": "stream",
          "name": "stdout",
          "text": [
            "ld_wiki_tatoeba_cnn_21 download started this may take some time.\n",
            "Approximate size to download 7.1 MB\n",
            "[OK!]\n"
          ]
        }
      ]
    },
    {
      "cell_type": "code",
      "source": [
        "test_df = spark.createDataFrame([\n",
        "  ['Spark NLP is an open-source text processing library for advanced natural language processing for the Python, Java and Scala programming languages.'], \n",
        "  ['Spark NLP est une bibliothèque de traitement de texte open source pour le traitement avancé du langage naturel pour les langages de programmation Python, Java et Scala.']]\n",
        ").toDF(\"text\")\n",
        "\n",
        "results = languagePipeline.fit(test_df).transform(test_df)"
      ],
      "metadata": {
        "id": "eQF5_osKAeOQ"
      },
      "execution_count": 47,
      "outputs": []
    },
    {
      "cell_type": "code",
      "source": [
        "results.select(\"lang.result\").show()"
      ],
      "metadata": {
        "colab": {
          "base_uri": "https://localhost:8080/"
        },
        "id": "wz1krnSn_5di",
        "outputId": "11487e9e-f012-42d7-c5f7-1ab79d979d6d"
      },
      "execution_count": 48,
      "outputs": [
        {
          "output_type": "stream",
          "name": "stdout",
          "text": [
            "+------+\n",
            "|result|\n",
            "+------+\n",
            "|  [en]|\n",
            "|  [fr]|\n",
            "+------+\n",
            "\n"
          ]
        }
      ]
    },
    {
      "cell_type": "code",
      "source": [
        "# probabilities for other languages\n",
        "results.select(\"lang.metadata\").show(2, False)"
      ],
      "metadata": {
        "colab": {
          "base_uri": "https://localhost:8080/"
        },
        "id": "3-Fb3TUlAs1n",
        "outputId": "2b03c541-e510-4dbf-bd40-8d2ca6dbef32"
      },
      "execution_count": 49,
      "outputs": [
        {
          "output_type": "stream",
          "name": "stdout",
          "text": [
            "+-------------------------------------------------------------------------------------------------------------------------------------------------------------------------------------------------------------------------------------------------------------------------------------------------------------------------------------------------------------------------------------------------------------------------------------+\n",
            "|metadata                                                                                                                                                                                                                                                                                                                                                                                                                             |\n",
            "+-------------------------------------------------------------------------------------------------------------------------------------------------------------------------------------------------------------------------------------------------------------------------------------------------------------------------------------------------------------------------------------------------------------------------------------+\n",
            "|[{fr -> 1.5861547E-20, lv -> 0.0, pt -> 1.3417341E-18, cs -> 1.867664E-20, el -> 1.0063604E-37, it -> 5.571757E-19, nl -> 4.5068417E-14, bg -> 0.0, et -> 1.1714855E-21, de -> 1.9250226E-15, sv -> 7.832558E-14, da -> 9.4325416E-11, en -> 1.0, sk -> 4.0569286E-20, es -> 2.1614668E-21, fi -> 9.72798E-28, ro -> 4.903903E-21, lt -> 5.9740204E-19, sl -> 3.407622E-12, sentence -> 0, hu -> 1.5670284E-14, pl -> 1.0098784E-16}]|\n",
            "|[{fr -> 1.0, lv -> 0.0, pt -> 1.3446618E-30, cs -> 0.0, el -> 0.0, it -> 1.7137803E-27, nl -> 4.1279706E-37, bg -> 0.0, et -> 0.0, de -> 0.0, sv -> 0.0, da -> 0.0, en -> 0.0, sk -> 0.0, es -> 8.686067E-30, fi -> 0.0, ro -> 9.285847E-25, lt -> 0.0, sl -> 7.775083E-34, sentence -> 0, hu -> 1.5921055E-30, pl -> 0.0}]                                                                                                          |\n",
            "+-------------------------------------------------------------------------------------------------------------------------------------------------------------------------------------------------------------------------------------------------------------------------------------------------------------------------------------------------------------------------------------------------------------------------------------+\n",
            "\n"
          ]
        }
      ]
    },
    {
      "cell_type": "code",
      "source": [],
      "metadata": {
        "id": "9tDmuDztALUr"
      },
      "execution_count": null,
      "outputs": []
    },
    {
      "cell_type": "code",
      "source": [],
      "metadata": {
        "id": "BD-trhP1BPBX"
      },
      "execution_count": null,
      "outputs": []
    },
    {
      "cell_type": "code",
      "source": [],
      "metadata": {
        "id": "-pSfLeMCBtt8"
      },
      "execution_count": null,
      "outputs": []
    }
  ]
}